#! /usr/bin/python3

def read_number(line, index):
    number = 0
    while index < len(line) and line[index].isdigit():
        number = number * 10 + int(line[index])
        index += 1
    if index < len(line) and line[index] == '.':
        index += 1
        decimal = 0.1
        while index < len(line) and line[index].isdigit():
            number += int(line[index]) * decimal
            decimal /= 10
            index += 1
    token = {'type': 'NUMBER', 'number': number}
    return token, index


def read_plus(line, index):
    token = {'type': 'PLUS'}
    return token, index + 1


def read_minus(line, index):
    token = {'type': 'MINUS'}
    return token, index + 1

def read_times(line,index):
    token = {'type' : 'TIMES'}
    return token,index+1
def read_divide(line,index):
    token = {'type' : 'DIVIDE'}
    return token,index+1
def read_left(line,index):
    token = {'type' : 'LEFT'}
    return token,index+1
def read_right(line,index):
    token = {'type' : 'RIGHT'}
    return token,index+1
def pre_view(tokens,num,index):
    pre_index = index+1
    pre_anwser = 0
    if tokens[pre_index]['type'] == 'TIMES':
        pre_anwser = num * tokens[pre_index+1]['number']
        index += 2
    elif tokens[pre_index]['type'] == 'DIVIDE':
        pre_anwser = num / tokens[pre_index+1]['number']
        index +=2
    else:
        pre_anwser = num
    if index+1 < len(tokens):
        if tokens[index+1]['type'] != 'LEFT' and tokens[index+1]['type'] != 'RIGHT':
            if tokens[index+1]['type'] == 'TIMES' or tokens[index+1]['type'] == 'DIVIDE':
                return pre_view(tokens,pre_anwser,index)       
            else:
                return pre_anwser,index
        else:
            return pre_anwser,index
    else:
        return pre_anwser,index
    
        
        



def tokenize(line):
    tokens = []
    index = 0
    while index < len(line):
        if line[index].isdigit():
            (token, index) = read_number(line, index)
        elif line[index] == '+':
            (token, index) = read_plus(line, index)
        elif line[index] == '-':
            (token, index) = read_minus(line, index)
        elif line[index] == '*':
            (token, index) = read_times(line, index)
        elif line[index] == '/':
            (token, index) = read_divide(line, index)
        elif line[index] == '(':
            (token, index) = read_left(line, index)
        elif line[index] == ')':
            (token,index) = read_right(line,index)
        else:
            print('Invalid character found: ' + line[index])
            exit(1)
        tokens.append(token)
    return tokens


    


def evaluate(tokens):
    answer = 0
    tokens.insert(0, {'type': 'PLUS'}) # Insert a dummy '+' token
    index = 1
    while index < len(tokens):
        pre_anwser = 0
        if tokens[index]['type'] == 'NUMBER':
            if tokens[index - 1]['type'] == 'PLUS':
                if index+1<len(tokens):
                    (pre_anwser,index) = pre_view(tokens,tokens[index]['number'],index)
                else:
                    pre_anwser = tokens[index]['number']
                answer += pre_anwser
            elif tokens[index - 1]['type'] == 'MINUS':
                if index+1<len(tokens):
                    (pre_anwser,index) = pre_view(tokens,tokens[index]['number'],index)
                else:
                    pre_anwser = tokens[index]['number']
                answer -= pre_anwser    
            elif tokens[index-1]['type'] == 'DIVIDE':
                answer /= tokens[index]['number']
            elif tokens[index-1]['type'] == 'TIMES':
                answer *= tokens[index]['number']
            else:
                print('Invalid syntax')
                exit(1)
            index += 1
            
        elif tokens[index]['type'] == 'LEFT':
            sub = []
            pre = index+1
            while pre<len(tokens):
                if tokens[pre]['type'] == 'LEFT':
                    sub.append(tokens[pre])
                elif tokens[pre]['type'] == 'RIGHT':
                    if len(sub) == 0:
                        break
                    else:
                        sub.pop()
                pre += 1
            sub_tokens = tokens[index+1:pre]
            sub_answer = evaluate(sub_tokens)
            if tokens[index - 1]['type'] == 'PLUS':
                answer += sub_answer
            elif tokens[index - 1]['type'] == 'MINUS':
                answer -= sub_answer
            elif tokens[index - 1]['type'] == 'TIMES':
                answer *= sub_answer
            elif tokens[index - 1]['type'] == 'DIVIDE':
                answer /= sub_answer
            index = pre+1
        index = index+1

    return answer


def test(line):
    tokens = tokenize(line)
    actual_answer = evaluate(tokens)
    expected_answer = eval(line)
    if abs(actual_answer - expected_answer) < 1e-8:
        print("PASS! (%s = %f)" % (line, expected_answer))
    else:
        print("FAIL! (%s should be %f but was %f)" % (line, expected_answer, actual_answer))


# Add more tests to this function :)
def run_test():
    print("==== Test started! ====")
    test("1+2")
    test("1.0+2.1-3")
    print("==== Test finished! ====\n")
    
    test("1*2")
    test("1/2")
    test('1-2*3')
    test("1+2*2")
    test('1-2/2')
    test("1+2/2")
    test("1+2*2/2")
    test('1-2*2/2')
    test('2*2+3*3')
    test('3*3-2*3')
    test('(2)')
    test("1+(3+2)")
    test("3-(1+2)")
    test("1/(3*2)")
    test("1*(2/2)")



    


run_test()

while True:
    print('> ', end="")
    line = input()
    tokens = tokenize(line)
    answer = evaluate(tokens)
    print("answer = %f\n" % answer)
