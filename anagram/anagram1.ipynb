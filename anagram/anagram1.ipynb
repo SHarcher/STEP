{
 "cells": [
  {
   "cell_type": "code",
   "execution_count": 55,
   "metadata": {},
   "outputs": [
    {
     "name": "stdout",
     "output_type": "stream",
     "text": [
      "' aa ' anagram:\n",
      "' act ' anagram:\n",
      "cat\n",
      "'  ' anagram:\n",
      "' voldment ' anagram:\n",
      "' tyounagaiisane ' anagram:\n"
     ]
    }
   ],
   "source": [
    "def solution(random_word,sorted_new_dictionary):\n",
    "    if random_word == \"\":\n",
    "        return None\n",
    "    sorted_random_word = sorted(random_word)\n",
    "    begin = 0;end = len(sorted_new_dictionary)\n",
    "    while(1):\n",
    "        mid = (begin+end)//2\n",
    "        if begin == mid and sorted_new_dictionary[mid][0]!=sorted_random_word:\n",
    "            break\n",
    "        elif sorted_new_dictionary[mid][0]<sorted_random_word:\n",
    "            begin = mid\n",
    "            mid = (begin+end)//2\n",
    "        elif sorted_new_dictionary[mid][0]>sorted_random_word:\n",
    "            end = mid\n",
    "            mid =(begin+end)//2\n",
    "        elif sorted_new_dictionary[mid][0]==sorted_random_word:\n",
    "             n = mid\n",
    "             while(1):\n",
    "                if sorted_new_dictionary[n][0]==sorted_random_word:\n",
    "                    if sorted_new_dictionary[n][1] != random_word:\n",
    "                        print(sorted_new_dictionary[n][1])\n",
    "                    n = n-1\n",
    "                    if(n<0):\n",
    "                        break\n",
    "                elif sorted_new_dictionary[n][0]!=sorted_random_word:\n",
    "                    break\n",
    "             while(1):\n",
    "                mid = mid+1\n",
    "                if sorted_new_dictionary[mid][0]==sorted_random_word :\n",
    "                    if sorted_new_dictionary[mid][1] != random_word:\n",
    "                        print(sorted_new_dictionary[mid][1])\n",
    "                    if mid==len(sorted_new_dictionary)-1:\n",
    "                        break\n",
    "                elif sorted_new_dictionary[mid][0]!=sorted_random_word:\n",
    "                    break\n",
    "             break\n",
    "        \n",
    "\n",
    "\n",
    "\n",
    "\n",
    "\n",
    "f = open(\"words.txt\",'r')\n",
    "dictionary = f.read().splitlines()\n",
    "f.close\n",
    "new_dictionary = []\n",
    "for word in dictionary:\n",
    "    new_dictionary.append((sorted(word),word))\n",
    "\n",
    "sorted_new_dictionary = sorted(new_dictionary,key = lambda k:(k[0]))\n",
    "\n",
    "g = open(\"test.txt\",'r')\n",
    "testwords = g.read().splitlines()\n",
    "g.close\n",
    "\n",
    "for testword in testwords:\n",
    "    print(\"'\",testword, \"' anagram:\")\n",
    "    solution(testword,sorted_new_dictionary)\n",
    "\n",
    "\n",
    "\n",
    "\n"
   ]
  }
 ],
 "metadata": {
  "kernelspec": {
   "display_name": "Python 3.7.3 64-bit",
   "language": "python",
   "name": "python3"
  },
  "language_info": {
   "codemirror_mode": {
    "name": "ipython",
    "version": 3
   },
   "file_extension": ".py",
   "mimetype": "text/x-python",
   "name": "python",
   "nbconvert_exporter": "python",
   "pygments_lexer": "ipython3",
   "version": "3.7.3"
  },
  "orig_nbformat": 4,
  "vscode": {
   "interpreter": {
    "hash": "31f2aee4e71d21fbe5cf8b01ff0e069b9275f58929596ceb00d14d90e3e16cd6"
   }
  }
 },
 "nbformat": 4,
 "nbformat_minor": 2
}
