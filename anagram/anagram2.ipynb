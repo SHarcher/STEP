SCORES = [1, 3, 2, 2, 1, 3, 3, 1, 1, 4, 4, 2, 2, 1, 1, 3, 4, 1, 1, 1, 2, 3, 3, 4, 3, 4]

def calculate_score(word):
    score = 0
    for character in list(word):
        score += SCORES[ord(character) - ord('a')]
    return score
def solution(random_word,dictionary):
    if random_word == "":
        return None
    random_word_list = sorted(random_word)
    random_character = []
    random_count = [0]*26
    random_list = []
    for i in random_word_list:
        if i not in random_character:
            random_character.append(i)
            random_count[ord(i)-ord('a')]=random_word_list.count(i)
    random_list.append(random_character)
    random_list.append(random_count)

    for i in range(0,len(dictionary)):
        if set(dictionary[i][0]).issubset(set(random_list[0])):
            if min(x - y for x,y in zip(random_list[1],dictionary[i][1]))>=0:
                max_score_word = dictionary[i][2]
                max_score = calculate_score(max_score_word)
                num = i+1
                break
    for j in range (num,len(dictionary)):
        if set(dictionary[j][0]).issubset(set(random_list[0])):
            if min(x - y for x,y in zip(random_list[1],dictionary[j][1]))>=0:
                 score_word2 = dictionary[j][2]
                 score2 = calculate_score(score_word2)
                 if score2 > max_score:
                     max_score = score2
                     max_score_word = score_word2
    return max_score_word


f = open("words.txt",'r')
dictionary = f.read().splitlines()

new_dictionary = []
for word in dictionary:
    count_character = [0]*26
    character = []
    word_list = sorted(word)
    for i in word_list:
        if i not in character:
            character.append(i)
            count_character[ord(i)-ord('a')]=(word_list.count(i))
    new_dictionary.append((character,count_character,word))
sorted_new_dictionary = sorted(new_dictionary,key = lambda k:(k[0]))
f.close

score_small = 0
small = open("small.txt",'r')
small_out = open("small_anwser.txt",'w')
small_in = small.read().splitlines()
for word in small_in:
    small_answer=solution(word,sorted_new_dictionary)
    socre_small= score_small + calculate_score(small_answer)
    small_out.writelines(small_answer)
    small_out.writelines("\n")
small.close()
small_out.close()

medium_score=0
medium = open("medium.txt",'r')
medium_out = open("medium_anwser.txt",'w')
medium_in = medium.read().splitlines()
for word in medium_in:
    medium_answer=solution(word,sorted_new_dictionary)
    medium_score = medium_score+calculate_score(medium_answer)
    medium_out.writelines(medium_answer)
    medium_out.writelines("\n")
medium.close()
medium_out.close()

large_score = 0
large = open("large.txt",'r')
large_out = open("large_anwser.txt",'w')
large_in = large.read().splitlines()
for word in large_in:
    large_answer=solution(word,sorted_new_dictionary)
    large_score  = large_score+ calculate_score(large_answer)
    large_out.writelines(large_answer)
    large_out.writelines("\n")
large.close()
large_out.close()

print(score_small,medium_score,large_score)
